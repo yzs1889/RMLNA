{
 "cells": [
  {
   "cell_type": "code",
   "execution_count": 34,
   "id": "9a66147e",
   "metadata": {},
   "outputs": [],
   "source": [
    "import numpy as np\n",
    "import pandas as pd\n",
    "import matplotlib.pyplot as plt\n",
    "from scipy.stats.kde import gaussian_kde\n",
    "from sklearn.cluster import KMeans\n",
    "from sklearn.cluster import DBSCAN\n",
    "from sklearn.preprocessing import StandardScaler\n",
    "import pandas as pd\n",
    "import seaborn as sns\n",
    "import matplotlib.pyplot as plt\n",
    "from matplotlib.colors import LinearSegmentedColormap"
   ]
  },
  {
   "cell_type": "code",
   "execution_count": 3,
   "id": "2508d03f",
   "metadata": {},
   "outputs": [],
   "source": [
    "root_dir = '/path/to/your_work_path/'\n",
    "RC_data = pd.read_csv(root_dir+\"any_two_reaction_coordinates_file.dat\", delim_whitespace=True,header=None)"
   ]
  },
  {
   "cell_type": "code",
   "execution_count": null,
   "id": "a91c8805",
   "metadata": {},
   "outputs": [],
   "source": [
    "#Plot Density Map\n",
    "cm = 1/2.54  # centimeters in inches\n",
    "sns.set(style=\"whitegrid\")\n",
    "plt.figure(figsize=(10*cm, 11*cm))\n",
    "\n",
    "# Define colors\n",
    "colors = ['#f2fafd','#d7f1f8','#caecf5','#bde8f3','#b0e3f0','#96daec','#7bd0e7','#61c7e2','#2cb4d8']\n",
    "custom_cmap = LinearSegmentedColormap.from_list(\"custom_cmap\", colors)\n",
    "\n",
    "# Generate plot with color bar\n",
    "ax = sns.kdeplot(data=RC_data, x=RC_data.columns[0], y=RC_data.columns[1], cmap=custom_cmap, cbar=True, fill=True, levels=9)\n",
    "\n",
    "# Set the font properties for axes labels\n",
    "plt.xlabel('RC1', fontsize=14, fontname='Arial')\n",
    "plt.ylabel('RC2', fontsize=14, fontname='Arial')\n",
    "#plt.xlim(2,8)\n",
    "#plt.ylim(8,18)\n",
    "# Set font properties for tick labels\n",
    "plt.xticks(fontsize=12, fontname='Arial', color='black')\n",
    "plt.yticks(fontsize=12, fontname='Arial', color='black')\n",
    "\n",
    "# Customize color bar labels\n",
    "cbar.set_label('Density', fontsize=12, fontname='Arial')\n",
    "cbar.ax.tick_params(labelsize=10)  # Font size for color bar ticks\n",
    "\n",
    "# Customize tick parameters\n",
    "plt.tick_params(axis='x', which='both', direction='out', length=6, width=1, colors='black', top=False, bottom=True)\n",
    "plt.tick_params(axis='y', which='both', direction='out', length=6, width=1, colors='black', left=True, right=False)\n",
    "\n",
    "# Set the color and width of the axes\n",
    "for spine in plt.gca().spines.values():\n",
    "    spine.set_color('black')\n",
    "    spine.set_linewidth(1)\n",
    "\n",
    "plt.gca().set_axisbelow(False)\n",
    "plt.grid(True, linewidth=0.5, color='gray')\n",
    "\n",
    "plt.savefig(\"Density_Map.svg\", format='svg', bbox_inches='tight', transparent=True)\n",
    "plt.show()"
   ]
  }
 ],
 "metadata": {
  "kernelspec": {
   "display_name": "Python 3 (ipykernel)",
   "language": "python",
   "name": "python3"
  },
  "language_info": {
   "codemirror_mode": {
    "name": "ipython",
    "version": 3
   },
   "file_extension": ".py",
   "mimetype": "text/x-python",
   "name": "python",
   "nbconvert_exporter": "python",
   "pygments_lexer": "ipython3",
   "version": "3.7.12"
  }
 },
 "nbformat": 4,
 "nbformat_minor": 5
}
